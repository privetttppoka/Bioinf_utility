{
 "cells": [
  {
   "cell_type": "code",
   "execution_count": 16,
   "id": "6e076e51-22a0-4c37-8a4e-36db1ebf2f0b",
   "metadata": {},
   "outputs": [],
   "source": [
    "!git add notebook.ipynb"
   ]
  },
  {
   "cell_type": "code",
   "execution_count": 17,
   "id": "df0c3451-ed52-4833-b716-dd0b7e58704e",
   "metadata": {},
   "outputs": [
    {
     "name": "stdout",
     "output_type": "stream",
     "text": [
      "[HW15 8eccf5f] update nucleic,dna and rna\n",
      " 1 file changed, 61 insertions(+), 28 deletions(-)\n"
     ]
    }
   ],
   "source": [
    "!git commit -m 'update nucleic,dna and rna'"
   ]
  },
  {
   "cell_type": "code",
   "execution_count": 59,
   "id": "dc5f6c94-0a8f-4d41-988f-2b4fa7cf093e",
   "metadata": {},
   "outputs": [],
   "source": [
    "from abc import ABC, abstractmethod "
   ]
  },
  {
   "cell_type": "code",
   "execution_count": 60,
   "id": "54761f7e-d4f6-40ef-a402-4347e790d058",
   "metadata": {},
   "outputs": [],
   "source": [
    "class BiologicalSequence(ABC):\n",
    "    \n",
    "    @abstractmethod\n",
    "    def alphabet_chek(self):\n",
    "        pass\n",
    "         \n",
    "    def __len__(self):\n",
    "        return len(self.sequence)\n",
    "\n",
    "    def __getitem__(self, index):\n",
    "        return self.sequence[index]\n",
    "        \n",
    "    def __repr__(self):\n",
    "        return f\"{self.__class__.__name__}({self.sequence})\"\n",
    "        \n",
    "    def __str__(self):\n",
    "        return self.sequence\n",
    "        "
   ]
  },
  {
   "cell_type": "code",
   "execution_count": 61,
   "id": "74b0de31-2a44-4a6b-8839-cfaeb695bb1d",
   "metadata": {},
   "outputs": [],
   "source": [
    "class NucleicAcidSequence(BiologicalSequence):\n",
    "    \n",
    "    def __init__(self, sequence: str ):\n",
    "        self.sequence = sequence\n",
    "        \n",
    "    @abstractmethod        \n",
    "    def alphabet_chek(self):\n",
    "        pass\n",
    "    \n",
    "    def complement(self):\n",
    "        \"\"\"Возвращает комплементарную последовательность\"\"\"\n",
    "        raise NotImplementedError(\"Метод complement должен быть реализован в дочернем классе\")\n",
    "\n",
    "    def reverse(self):\n",
    "        return self.__class__(self.sequence[::-1])\n",
    "        \n",
    "    def reverse_complement(self):\n",
    "        return self.__class__(self.reverse().complement())"
   ]
  },
  {
   "cell_type": "code",
   "execution_count": 62,
   "id": "6d9dc7a0-99dc-4cc4-ba14-0a81c6f92289",
   "metadata": {},
   "outputs": [],
   "source": [
    "class DNASequence(NucleicAcidSequence):\n",
    "    \n",
    "    def __init__(self, sequence: str):\n",
    "        super().__init__(sequence)\n",
    "\n",
    "    def alphabet_chek(self):\n",
    "        valid_dna_alphabet = set(\"ATGCatgc\")\n",
    "        if not set(self.sequence).issubset(valid_dna_alphabet):\n",
    "            raise ValueError(\"Невалидная последовательность ДНК\")\n",
    "\n",
    "    def complement(self):\n",
    "        \"\"\"Возвращает комплементарную ДНК-последовательность\"\"\"\n",
    "        complement_dict = {\n",
    "            \"A\": \"T\", \"T\": \"A\", \"G\": \"C\", \"C\": \"G\",\n",
    "            \"a\": \"t\", \"t\": \"a\", \"g\": \"c\", \"c\": \"g\"\n",
    "        }\n",
    "        return self.__class__(''.join(complement_dict[base] for base in self.sequence))\n",
    "        \n",
    "    def transcribe(self):\n",
    "        return self.__class__(self.sequence.replace(\"T\",\"u\").replace(\"t\",\"u\"))\n",
    "        "
   ]
  },
  {
   "cell_type": "code",
   "execution_count": 63,
   "id": "b827c68f-8abf-4b1c-a84e-b1cc10b5b8ed",
   "metadata": {},
   "outputs": [],
   "source": [
    "class RNASequence(NucleicAcidSequence):\n",
    "   \n",
    "    _complement_dict = {\n",
    "        \"A\": \"U\", \"U\": \"A\",\n",
    "        \"G\": \"C\", \"C\": \"G\",\n",
    "        \"a\": \"u\", \"u\": \"a\",\n",
    "        \"g\": \"c\", \"c\": \"g\"\n",
    "    }\n",
    "\n",
    "    def alphabet_chek(self) -> bool:\n",
    "        valid_rna_alphabet = set(\"AUGCaugc\")\n",
    "        if not set(self.sequence).issubset(valid_rna_alphabet):\n",
    "            raise ValueError(\"Невалидная последовательность RNA\")\n",
    "        return set(self.sequence.upper()).issubset({\"A\", \"U\", \"G\", \"C\"})"
   ]
  },
  {
   "cell_type": "code",
   "execution_count": 74,
   "id": "2f0eb50c-1036-411e-a2da-c05cfd6955b0",
   "metadata": {},
   "outputs": [],
   "source": [
    "class AminoAcidSequence(BiologicalSequence):\n",
    "    \n",
    "    def __init__(self, sequence: str):\n",
    "        self.sequence = sequence\n",
    "        \n",
    "  \n",
    "    def alphabet_chek(self):\n",
    "        valid_aa_alphabet = set(\"ACDEFGHIKLMNPQRSTVWYacdefghiklmnpqrstvwya\")\n",
    "        if not set(self.sequence).issubset(valid_aa_alphabet):\n",
    "            raise ValueError(\"Невалидная последовательность аминокислот\")\n",
    "\n",
    "    def molecular_weight(self):\n",
    "        \"\"\"Метод для вычисления молекулярной массы белка\"\"\"\n",
    "        aa_weights = {\n",
    "            \"A\": 89.1, \"C\": 121.2, \"D\": 133.1, \"E\": 147.1, \"F\": 165.2, \"G\": 75.1, \"H\": 155.2, \"I\": 131.2,\n",
    "            \"K\": 146.2, \"L\": 131.2, \"M\": 149.2, \"N\": 132.1, \"P\": 115.1, \"Q\": 146.2, \"R\": 174.2, \"S\": 105.1,\n",
    "            \"T\": 119.1, \"V\": 117.1, \"W\": 204.2, \"Y\": 181.2\n",
    "        }\n",
    "        self.molecular_weight = sum(aa_weights.get(aa.upper(), 0) for aa in self.sequence)\n",
    "        return self.__class__(f'{self.molecular_weight:.2f}')\n",
    "    "
   ]
  },
  {
   "cell_type": "code",
   "execution_count": 82,
   "id": "0b6f88a0-32c5-48ff-8ca9-f0cc93f4a1da",
   "metadata": {},
   "outputs": [],
   "source": [
    "dna = DNASequence('AAACCC')"
   ]
  },
  {
   "cell_type": "code",
   "execution_count": 83,
   "id": "f978833a-7140-4cb6-821c-1012e630764f",
   "metadata": {},
   "outputs": [
    {
     "data": {
      "text/plain": [
       "DNASequence(TTTGGG)"
      ]
     },
     "execution_count": 83,
     "metadata": {},
     "output_type": "execute_result"
    }
   ],
   "source": [
    "dna.complement()"
   ]
  },
  {
   "cell_type": "code",
   "execution_count": 87,
   "id": "e0a73f9b-a37c-4fad-b854-4e8835d2020e",
   "metadata": {},
   "outputs": [],
   "source": [
    "from Bio import SeqIO\n",
    "from Bio.SeqUtils import gc_fraction\n",
    "from Bio.SeqRecord import SeqRecord\n",
    "from typing import Union"
   ]
  },
  {
   "cell_type": "code",
   "execution_count": null,
   "id": "8e5854f2-edb7-4ef0-9c75-ee0e4f11d59b",
   "metadata": {},
   "outputs": [],
   "source": [
    "\n",
    "def filter_fastq():\n",
    "    handle = open(\"ls_orchid.fasta\")\n",
    "    for seq_record in SeqIO.parse(handle, \"fasta\") :\n",
    "        print seq_record.id\n",
    "        print repr(seq_record.seq)\n",
    "        print len(seq_record)\n",
    "handle.close()"
   ]
  },
  {
   "cell_type": "code",
   "execution_count": 88,
   "id": "8b5eb296-d494-4e42-8fdd-b536ce9ac354",
   "metadata": {},
   "outputs": [],
   "source": [
    "\n",
    "def filter_fastq(\n",
    "    input_fastq: str,\n",
    "    output_fastq: str,\n",
    "    gc_bounds: Union[tuple[float, float], float] = (0, 100),\n",
    "    length_bounds: Union[tuple[int, int], int] = (0, 2**32),\n",
    "    quality_threshold: float = 0\n",
    ") -> None:\n",
    "    \"\"\"Filters sequences in a FASTQ file based on GC content, sequence length, and quality score\n",
    "    using Biopython.\n",
    "\n",
    "    Args:\n",
    "    - input_fastq (str): Input FASTQ file.\n",
    "    - output_fastq (str): Output FASTQ file to store filtered sequences.\n",
    "    - gc_bounds (tuple[float, float] or float): Bounds for GC content (default: (0, 100)).\n",
    "    - length_bounds (tuple[int, int] or int): Bounds for sequence length (default: (0, 2**32)).\n",
    "    - quality_threshold (float): Minimum average quality score (default: 0).\n",
    "    \"\"\"\n",
    "    \n",
    "    # If single values are provided for bounds, convert them to tuples\n",
    "    if isinstance(gc_bounds, (float, int)):\n",
    "        gc_bounds = (0, gc_bounds)\n",
    "    if isinstance(length_bounds, (float, int)):\n",
    "        length_bounds = (0, length_bounds)\n",
    "\n",
    "    # Open output FASTQ file for writing filtered sequences\n",
    "    with open(output_fastq, \"w\") as out_handle:\n",
    "        # Iterate over the FASTQ file using Biopython's SeqIO\n",
    "        for record in SeqIO.parse(input_fastq, \"fastq\"):\n",
    "            sequence = record.seq\n",
    "            quality = record.letter_annotations[\"phred_quality\"]\n",
    "            sequence_length = len(sequence)\n",
    "            \n",
    "            # Calculate GC content using Biopython's utility function\n",
    "            gc_content = gc_fraction(sequence) * 100\n",
    "            \n",
    "            # Calculate average quality score\n",
    "            avg_quality = sum(quality) / len(quality)\n",
    "            \n",
    "            # Apply the filtering conditions based on GC content, length, and quality\n",
    "            if (length_bounds[0] <= sequence_length <= length_bounds[1]) and \\\n",
    "               (gc_bounds[0] <= gc_content <= gc_bounds[1]) and \\\n",
    "               (avg_quality >= quality_threshold):\n",
    "                # Write the filtered record to the output file\n",
    "                SeqIO.write(record, out_handle, \"fastq\")\n",
    "\n"
   ]
  },
  {
   "cell_type": "code",
   "execution_count": 89,
   "id": "8ceb79fc-6b10-4a88-9366-e4b600e9c7dc",
   "metadata": {},
   "outputs": [
    {
     "ename": "FileNotFoundError",
     "evalue": "[Errno 2] No such file or directory: 'input.fastq'",
     "output_type": "error",
     "traceback": [
      "\u001b[0;31m---------------------------------------------------------------------------\u001b[0m",
      "\u001b[0;31mFileNotFoundError\u001b[0m                         Traceback (most recent call last)",
      "Cell \u001b[0;32mIn[89], line 2\u001b[0m\n\u001b[1;32m      1\u001b[0m \u001b[38;5;66;03m# Пример использования:\u001b[39;00m\n\u001b[0;32m----> 2\u001b[0m \u001b[43mfilter_fastq\u001b[49m\u001b[43m(\u001b[49m\u001b[38;5;124;43m\"\u001b[39;49m\u001b[38;5;124;43minput.fastq\u001b[39;49m\u001b[38;5;124;43m\"\u001b[39;49m\u001b[43m,\u001b[49m\u001b[43m \u001b[49m\u001b[38;5;124;43m\"\u001b[39;49m\u001b[38;5;124;43moutput_filtered.fastq\u001b[39;49m\u001b[38;5;124;43m\"\u001b[39;49m\u001b[43m,\u001b[49m\u001b[43m \u001b[49m\u001b[43mgc_bounds\u001b[49m\u001b[38;5;241;43m=\u001b[39;49m\u001b[43m(\u001b[49m\u001b[38;5;241;43m40\u001b[39;49m\u001b[43m,\u001b[49m\u001b[43m \u001b[49m\u001b[38;5;241;43m60\u001b[39;49m\u001b[43m)\u001b[49m\u001b[43m,\u001b[49m\u001b[43m \u001b[49m\u001b[43mlength_bounds\u001b[49m\u001b[38;5;241;43m=\u001b[39;49m\u001b[43m(\u001b[49m\u001b[38;5;241;43m100\u001b[39;49m\u001b[43m,\u001b[49m\u001b[43m \u001b[49m\u001b[38;5;241;43m500\u001b[39;49m\u001b[43m)\u001b[49m\u001b[43m,\u001b[49m\u001b[43m \u001b[49m\u001b[43mquality_threshold\u001b[49m\u001b[38;5;241;43m=\u001b[39;49m\u001b[38;5;241;43m30\u001b[39;49m\u001b[43m)\u001b[49m\n",
      "Cell \u001b[0;32mIn[88], line 28\u001b[0m, in \u001b[0;36mfilter_fastq\u001b[0;34m(input_fastq, output_fastq, gc_bounds, length_bounds, quality_threshold)\u001b[0m\n\u001b[1;32m     25\u001b[0m \u001b[38;5;66;03m# Open output FASTQ file for writing filtered sequences\u001b[39;00m\n\u001b[1;32m     26\u001b[0m \u001b[38;5;28;01mwith\u001b[39;00m \u001b[38;5;28mopen\u001b[39m(output_fastq, \u001b[38;5;124m\"\u001b[39m\u001b[38;5;124mw\u001b[39m\u001b[38;5;124m\"\u001b[39m) \u001b[38;5;28;01mas\u001b[39;00m out_handle:\n\u001b[1;32m     27\u001b[0m     \u001b[38;5;66;03m# Iterate over the FASTQ file using Biopython's SeqIO\u001b[39;00m\n\u001b[0;32m---> 28\u001b[0m     \u001b[38;5;28;01mfor\u001b[39;00m record \u001b[38;5;129;01min\u001b[39;00m \u001b[43mSeqIO\u001b[49m\u001b[38;5;241;43m.\u001b[39;49m\u001b[43mparse\u001b[49m\u001b[43m(\u001b[49m\u001b[43minput_fastq\u001b[49m\u001b[43m,\u001b[49m\u001b[43m \u001b[49m\u001b[38;5;124;43m\"\u001b[39;49m\u001b[38;5;124;43mfastq\u001b[39;49m\u001b[38;5;124;43m\"\u001b[39;49m\u001b[43m)\u001b[49m:\n\u001b[1;32m     29\u001b[0m         sequence \u001b[38;5;241m=\u001b[39m record\u001b[38;5;241m.\u001b[39mseq\n\u001b[1;32m     30\u001b[0m         quality \u001b[38;5;241m=\u001b[39m record\u001b[38;5;241m.\u001b[39mletter_annotations[\u001b[38;5;124m\"\u001b[39m\u001b[38;5;124mphred_quality\u001b[39m\u001b[38;5;124m\"\u001b[39m]\n",
      "File \u001b[0;32m/opt/homebrew/Caskroom/miniforge/base/lib/python3.12/site-packages/Bio/SeqIO/__init__.py:626\u001b[0m, in \u001b[0;36mparse\u001b[0;34m(handle, format, alphabet)\u001b[0m\n\u001b[1;32m    624\u001b[0m iterator_generator \u001b[38;5;241m=\u001b[39m _FormatToIterator\u001b[38;5;241m.\u001b[39mget(\u001b[38;5;28mformat\u001b[39m)\n\u001b[1;32m    625\u001b[0m \u001b[38;5;28;01mif\u001b[39;00m iterator_generator:\n\u001b[0;32m--> 626\u001b[0m     \u001b[38;5;28;01mreturn\u001b[39;00m \u001b[43miterator_generator\u001b[49m\u001b[43m(\u001b[49m\u001b[43mhandle\u001b[49m\u001b[43m)\u001b[49m\n\u001b[1;32m    627\u001b[0m \u001b[38;5;28;01mif\u001b[39;00m \u001b[38;5;28mformat\u001b[39m \u001b[38;5;129;01min\u001b[39;00m AlignIO\u001b[38;5;241m.\u001b[39m_FormatToIterator:\n\u001b[1;32m    628\u001b[0m     \u001b[38;5;66;03m# Use Bio.AlignIO to read in the alignments\u001b[39;00m\n\u001b[1;32m    629\u001b[0m     \u001b[38;5;28;01mreturn\u001b[39;00m (r \u001b[38;5;28;01mfor\u001b[39;00m alignment \u001b[38;5;129;01min\u001b[39;00m AlignIO\u001b[38;5;241m.\u001b[39mparse(handle, \u001b[38;5;28mformat\u001b[39m) \u001b[38;5;28;01mfor\u001b[39;00m r \u001b[38;5;129;01min\u001b[39;00m alignment)\n",
      "File \u001b[0;32m/opt/homebrew/Caskroom/miniforge/base/lib/python3.12/site-packages/Bio/SeqIO/QualityIO.py:1233\u001b[0m, in \u001b[0;36mFastqPhredIterator.__init__\u001b[0;34m(self, source, alphabet)\u001b[0m\n\u001b[1;32m   1231\u001b[0m \u001b[38;5;28;01mif\u001b[39;00m alphabet \u001b[38;5;129;01mis\u001b[39;00m \u001b[38;5;129;01mnot\u001b[39;00m \u001b[38;5;28;01mNone\u001b[39;00m:\n\u001b[1;32m   1232\u001b[0m     \u001b[38;5;28;01mraise\u001b[39;00m \u001b[38;5;167;01mValueError\u001b[39;00m(\u001b[38;5;124m\"\u001b[39m\u001b[38;5;124mThe alphabet argument is no longer supported\u001b[39m\u001b[38;5;124m\"\u001b[39m)\n\u001b[0;32m-> 1233\u001b[0m \u001b[38;5;28;43msuper\u001b[39;49m\u001b[43m(\u001b[49m\u001b[43m)\u001b[49m\u001b[38;5;241;43m.\u001b[39;49m\u001b[38;5;21;43m__init__\u001b[39;49m\u001b[43m(\u001b[49m\u001b[43msource\u001b[49m\u001b[43m)\u001b[49m\n",
      "File \u001b[0;32m/opt/homebrew/Caskroom/miniforge/base/lib/python3.12/site-packages/Bio/SeqIO/QualityIO.py:1027\u001b[0m, in \u001b[0;36mFastqIteratorAbstractBaseClass.__init__\u001b[0;34m(self, source)\u001b[0m\n\u001b[1;32m   1018\u001b[0m \u001b[38;5;28;01mdef\u001b[39;00m \u001b[38;5;21m__init__\u001b[39m(\u001b[38;5;28mself\u001b[39m, source):\n\u001b[1;32m   1019\u001b[0m \u001b[38;5;250m    \u001b[39m\u001b[38;5;124;03m\"\"\"Iterate over FASTQ records as SeqRecord objects.\u001b[39;00m\n\u001b[1;32m   1020\u001b[0m \n\u001b[1;32m   1021\u001b[0m \u001b[38;5;124;03m    Arguments:\u001b[39;00m\n\u001b[0;32m   (...)\u001b[0m\n\u001b[1;32m   1025\u001b[0m \u001b[38;5;124;03m    attribute under the key `q_key`.\u001b[39;00m\n\u001b[1;32m   1026\u001b[0m \u001b[38;5;124;03m    \"\"\"\u001b[39;00m\n\u001b[0;32m-> 1027\u001b[0m     \u001b[38;5;28;43msuper\u001b[39;49m\u001b[43m(\u001b[49m\u001b[43m)\u001b[49m\u001b[38;5;241;43m.\u001b[39;49m\u001b[38;5;21;43m__init__\u001b[39;49m\u001b[43m(\u001b[49m\u001b[43msource\u001b[49m\u001b[43m,\u001b[49m\u001b[43m \u001b[49m\u001b[43mfmt\u001b[49m\u001b[38;5;241;43m=\u001b[39;49m\u001b[38;5;124;43m\"\u001b[39;49m\u001b[38;5;124;43mFastq\u001b[39;49m\u001b[38;5;124;43m\"\u001b[39;49m\u001b[43m)\u001b[49m\n\u001b[1;32m   1028\u001b[0m     \u001b[38;5;28mself\u001b[39m\u001b[38;5;241m.\u001b[39mline \u001b[38;5;241m=\u001b[39m \u001b[38;5;28;01mNone\u001b[39;00m\n",
      "File \u001b[0;32m/opt/homebrew/Caskroom/miniforge/base/lib/python3.12/site-packages/Bio/SeqIO/Interfaces.py:81\u001b[0m, in \u001b[0;36mSequenceIterator.__init__\u001b[0;34m(self, source, alphabet, fmt)\u001b[0m\n\u001b[1;32m     79\u001b[0m \u001b[38;5;28;01mif\u001b[39;00m \u001b[38;5;28misinstance\u001b[39m(source, _PathLikeTypes):\n\u001b[1;32m     80\u001b[0m     mode \u001b[38;5;241m=\u001b[39m modes[\u001b[38;5;241m0\u001b[39m]\n\u001b[0;32m---> 81\u001b[0m     \u001b[38;5;28mself\u001b[39m\u001b[38;5;241m.\u001b[39mstream \u001b[38;5;241m=\u001b[39m \u001b[38;5;28;43mopen\u001b[39;49m\u001b[43m(\u001b[49m\u001b[43msource\u001b[49m\u001b[43m,\u001b[49m\u001b[43m \u001b[49m\u001b[38;5;124;43m\"\u001b[39;49m\u001b[38;5;124;43mr\u001b[39;49m\u001b[38;5;124;43m\"\u001b[39;49m\u001b[43m \u001b[49m\u001b[38;5;241;43m+\u001b[39;49m\u001b[43m \u001b[49m\u001b[43mmode\u001b[49m\u001b[43m)\u001b[49m\n\u001b[1;32m     82\u001b[0m \u001b[38;5;28;01melse\u001b[39;00m:\n\u001b[1;32m     83\u001b[0m     value \u001b[38;5;241m=\u001b[39m source\u001b[38;5;241m.\u001b[39mread(\u001b[38;5;241m0\u001b[39m)\n",
      "\u001b[0;31mFileNotFoundError\u001b[0m: [Errno 2] No such file or directory: 'input.fastq'"
     ]
    }
   ],
   "source": [
    "# Пример использования:\n",
    "filter_fastq(\"input.fastq\", \"output_filtered.fastq\", gc_bounds=(40, 60), length_bounds=(100, 500), quality_threshold=30)"
   ]
  },
  {
   "cell_type": "code",
   "execution_count": null,
   "id": "252e2b86-aa38-44c5-bb20-dbb09bc7371c",
   "metadata": {},
   "outputs": [],
   "source": []
  }
 ],
 "metadata": {
  "kernelspec": {
   "display_name": "Python 3 (ipykernel)",
   "language": "python",
   "name": "python3"
  },
  "language_info": {
   "codemirror_mode": {
    "name": "ipython",
    "version": 3
   },
   "file_extension": ".py",
   "mimetype": "text/x-python",
   "name": "python",
   "nbconvert_exporter": "python",
   "pygments_lexer": "ipython3",
   "version": "3.12.6"
  }
 },
 "nbformat": 4,
 "nbformat_minor": 5
}
