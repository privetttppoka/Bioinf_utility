{
 "cells": [
  {
   "cell_type": "code",
   "execution_count": 14,
   "id": "df0c3451-ed52-4833-b716-dd0b7e58704e",
   "metadata": {},
   "outputs": [
    {
     "name": "stdout",
     "output_type": "stream",
     "text": [
      "[HW15 66187a4] added some  clasess\n",
      " 1 file changed, 157 insertions(+)\n",
      " create mode 100644 notebook.ipynb\n"
     ]
    }
   ],
   "source": [
    "!git commit -m 'added some  clasess'"
   ]
  },
  {
   "cell_type": "code",
   "execution_count": 2,
   "id": "dc5f6c94-0a8f-4d41-988f-2b4fa7cf093e",
   "metadata": {},
   "outputs": [],
   "source": [
    "from abc import ABC, abstractmethod "
   ]
  },
  {
   "cell_type": "code",
   "execution_count": 3,
   "id": "54761f7e-d4f6-40ef-a402-4347e790d058",
   "metadata": {},
   "outputs": [],
   "source": [
    "class BiologicalSequence(ABC):\n",
    "    \n",
    "    @abstractmethod\n",
    "    def alphabet_chek(self):\n",
    "        pass\n",
    "        \n",
    "    @abstractmethod    \n",
    "    def __len__(self):\n",
    "        return len(self.sequence)\n",
    "\n",
    "    @abstractmethod\n",
    "    def __getitem__(self, index):\n",
    "        return self.sequence[index]\n",
    "        \n",
    "    @abstractmethod\n",
    "    def __repr__(self):\n",
    "        return f\"{self.__class__.__name__}({self.sequence})\"\n",
    "        \n",
    "    @abstractmethod\n",
    "    def __str__(self):\n",
    "        return self.sequence\n",
    "        "
   ]
  },
  {
   "cell_type": "code",
   "execution_count": 11,
   "id": "74b0de31-2a44-4a6b-8839-cfaeb695bb1d",
   "metadata": {},
   "outputs": [],
   "source": [
    "class NucleicAcidSequence(BiologicalSequence):\n",
    "    \n",
    "    def __init__(self, sequence: str ):\n",
    "        self.sequence = sequence\n",
    "        \n",
    "    @abstractmethod        \n",
    "    def alphabet_chek(self):\n",
    "        pass\n",
    "    \n",
    "    def complement(self):\n",
    "        \"\"\"Возвращает комплементарную последовательность\"\"\"\n",
    "        raise NotImplementedError(\"Метод complement должен быть реализован в дочернем классе\")\n",
    "\n",
    "    def reverse(self):\n",
    "        return self.__class__(self.sequence[::-1])\n",
    "        \n",
    "    def reverse_complement(self):\n",
    "        return self.__class__(self.sequence.reverse().complement())"
   ]
  },
  {
   "cell_type": "code",
   "execution_count": 15,
   "id": "6d9dc7a0-99dc-4cc4-ba14-0a81c6f92289",
   "metadata": {},
   "outputs": [],
   "source": [
    "class DNASequence(NucleicAcidSequence):\n",
    "    \n",
    "    def __init__(self, sequence: str):\n",
    "        super().__init__(sequence)\n",
    "\n",
    "    def alphabet_chek(self):\n",
    "        valid_dna_alphabet = set(\"ATGCatgc\")\n",
    "        if not set(self.sequence).issubset(valid_dna_alphabet):\n",
    "            raise ValueError(\"Невалидная последовательность ДНК\")\n",
    "\n",
    "    def complement(self):\n",
    "        \"\"\"Возвращает комплементарную ДНК-последовательность\"\"\"\n",
    "        complement_dict = {\n",
    "            \"A\": \"T\", \"T\": \"A\", \"G\": \"C\", \"C\": \"G\",\n",
    "            \"a\": \"t\", \"t\": \"a\", \"g\": \"c\", \"c\": \"g\"\n",
    "        }\n",
    "        return self.__class__(''.join(complement_dict[base] for base in self.sequence))\n",
    "        \n",
    "    def transcribe(self):\n",
    "        return self.__class__(self.sequence.replace(\"T\",\"u\").replace(\"t\",\"u\"))\n",
    "        "
   ]
  },
  {
   "cell_type": "code",
   "execution_count": 7,
   "id": "b827c68f-8abf-4b1c-a84e-b1cc10b5b8ed",
   "metadata": {},
   "outputs": [],
   "source": [
    "class RNASequence(NucleicAcidSequence):\n",
    "   \n",
    "    _complement_dict = {\n",
    "        \"A\": \"U\", \"U\": \"A\",\n",
    "        \"G\": \"C\", \"C\": \"G\",\n",
    "        \"a\": \"u\", \"u\": \"a\",\n",
    "        \"g\": \"c\", \"c\": \"g\"\n",
    "    }\n",
    "\n",
    "    def alphabet_chek(self) -> bool:\n",
    "        \"\"\"Проверяет, содержит ли последовательность только РНК-буквы (A, U, G, C).\"\"\"\n",
    "        return set(self.sequence.upper()).issubset({\"A\", \"U\", \"G\", \"C\"})"
   ]
  },
  {
   "cell_type": "code",
   "execution_count": 8,
   "id": "2f0eb50c-1036-411e-a2da-c05cfd6955b0",
   "metadata": {},
   "outputs": [],
   "source": [
    "class AminoAcidSequence(BiologicalSequence):\n",
    "    \n",
    "    def __init__(self):\n",
    "        pass\n",
    "        \n",
    "  \n",
    "    def alphabet_check(self):\n",
    "        pass\n",
    "    "
   ]
  },
  {
   "cell_type": "code",
   "execution_count": null,
   "id": "61471eba-c533-46b6-967f-b69a1a1784d3",
   "metadata": {},
   "outputs": [],
   "source": []
  }
 ],
 "metadata": {
  "kernelspec": {
   "display_name": "Python 3 (ipykernel)",
   "language": "python",
   "name": "python3"
  },
  "language_info": {
   "codemirror_mode": {
    "name": "ipython",
    "version": 3
   },
   "file_extension": ".py",
   "mimetype": "text/x-python",
   "name": "python",
   "nbconvert_exporter": "python",
   "pygments_lexer": "ipython3",
   "version": "3.12.6"
  }
 },
 "nbformat": 4,
 "nbformat_minor": 5
}
