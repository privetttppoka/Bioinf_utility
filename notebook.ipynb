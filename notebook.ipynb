{
 "cells": [
  {
   "cell_type": "code",
   "execution_count": 1,
   "id": "df0c3451-ed52-4833-b716-dd0b7e58704e",
   "metadata": {},
   "outputs": [
    {
     "name": "stdout",
     "output_type": "stream",
     "text": [
      "* \u001b[32mHW15\u001b[m\n",
      "  main\u001b[m\n"
     ]
    }
   ],
   "source": [
    "!git branch"
   ]
  },
  {
   "cell_type": "code",
   "execution_count": 2,
   "id": "dc5f6c94-0a8f-4d41-988f-2b4fa7cf093e",
   "metadata": {},
   "outputs": [],
   "source": [
    "from abc import ABC, abstractmethod "
   ]
  },
  {
   "cell_type": "code",
   "execution_count": 5,
   "id": "54761f7e-d4f6-40ef-a402-4347e790d058",
   "metadata": {},
   "outputs": [],
   "source": [
    "class BiologicalSequence(ABC):\n",
    "    \n",
    "    @abstractmethod\n",
    "    def alphabet_chek(self):\n",
    "        pass\n",
    "        \n",
    "    def __len__(self):\n",
    "        return len(self.sequence)\n",
    "\n",
    "    def __getitem__(self, index):\n",
    "        return self.sequence[index]\n",
    "\n",
    "    def __repr__(self):\n",
    "        return f\"{self.__class__.__name__}({self.sequence})\"\n",
    "\n",
    "    def __str__(self):\n",
    "        return self.sequence\n",
    "        "
   ]
  },
  {
   "cell_type": "code",
   "execution_count": 8,
   "id": "74b0de31-2a44-4a6b-8839-cfaeb695bb1d",
   "metadata": {},
   "outputs": [],
   "source": [
    "class NucleicAcidSequence(BiologicalSequence):\n",
    "    \n",
    "    def __init__(self):\n",
    "        \n",
    "        if self.__class__ is NucleicAcidSequence:\n",
    "            raise NotImplementedError(\"Нельзя создать экземпляр NucleicAcidSequence напрямую!\")\n",
    "        super().__init__(sequence)\n",
    "    \n",
    "    def alphabet_check(self):\n",
    "        return (set(self.sequence.upper()).issubset(self._alphabet))\n",
    "\n",
    "        \n",
    "    def reverse(self):\n",
    "        return self.__class__(self.sequence[::-1])\n",
    "        \n",
    "    def reverse_complement(self):\n",
    "        return self.__class__(''.join(self._alphabet[i]) for i in self._sequense)"
   ]
  },
  {
   "cell_type": "code",
   "execution_count": 12,
   "id": "6d9dc7a0-99dc-4cc4-ba14-0a81c6f92289",
   "metadata": {},
   "outputs": [],
   "source": [
    "class DNASequence(NucleicAcidSequence):\n",
    "    \n",
    "    def __init__(self, _sequence: str, _alphabet = [{\"A\", \"T\", \"C\", \"G\"}], _complement_dict = {\"A\": \"T\", \"T\": \"A\", \"C\": \"G\", \"G\": \"C\"}):\n",
    "        self._sequence = _sequence\n",
    "        self._alphabet = _alphabet\n",
    "        self._complement_dict = _complement_dict\n",
    "        \n",
    "    def transcribe(self):\n",
    "        self._sequence = [seq.replace(\"T\", \"U\").replace(\"t\", \"u\") for seq in seqs]\n",
    "        return(self.__class__(seq.replace(\"T\", \"U\").replace(\"t\", \"u\") for seq in self._sequence))\n",
    "\n",
    "    "
   ]
  },
  {
   "cell_type": "code",
   "execution_count": null,
   "id": "b827c68f-8abf-4b1c-a84e-b1cc10b5b8ed",
   "metadata": {},
   "outputs": [],
   "source": [
    "class RNASequence(NucleicAcidSequence):\n",
    "    "
   ]
  },
  {
   "cell_type": "code",
   "execution_count": null,
   "id": "2f0eb50c-1036-411e-a2da-c05cfd6955b0",
   "metadata": {},
   "outputs": [],
   "source": [
    "class AminoAcidSequence(BiologicalSequence):\n",
    "    \n",
    "    def __init__(self):\n",
    "        pass\n",
    "        \n",
    "  \n",
    "    def alphabet_check(self):\n",
    "        pass\n",
    "    "
   ]
  }
 ],
 "metadata": {
  "kernelspec": {
   "display_name": "Python 3 (ipykernel)",
   "language": "python",
   "name": "python3"
  },
  "language_info": {
   "codemirror_mode": {
    "name": "ipython",
    "version": 3
   },
   "file_extension": ".py",
   "mimetype": "text/x-python",
   "name": "python",
   "nbconvert_exporter": "python",
   "pygments_lexer": "ipython3",
   "version": "3.12.6"
  }
 },
 "nbformat": 4,
 "nbformat_minor": 5
}
